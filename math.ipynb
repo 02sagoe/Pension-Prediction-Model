{
 "cells": [
  {
   "cell_type": "code",
   "execution_count": 1,
   "metadata": {},
   "outputs": [],
   "source": [
    "import numpy as"
   ]
  },
  {
   "cell_type": "markdown",
   "metadata": {},
   "source": [
    "#### We are trying to achieve this function PMT\n",
    "\n",
    "Example:\n",
    "\n",
    "<i>Let's say you take out a car loan of <b>$20,000</b> (pv) with an annual interest rate of <b>5%</b> (rate) and a loan term of <b>4 years</b> (nper) with monthly payments. To find the monthly payment amount, you would use the following formula:</i>\n",
    "\n",
    "`ANS = 460.5858714`"
   ]
  },
  {
   "cell_type": "code",
   "execution_count": 25,
   "metadata": {},
   "outputs": [],
   "source": [
    "# Setting the variables for calculation\n",
    "present_value = 20000\n",
    "duration = 4\n",
    "interest_rate = 0.05\n",
    "payment_frequency = 12\n",
    "payment_rate = interest_rate/payment_period\n",
    "number_of_payment_periods = duration * payment_period"
   ]
  },
  {
   "cell_type": "markdown",
   "metadata": {},
   "source": [
    "Formula\n",
    "\n",
    "<b>PMT= PV * ( r / n ) / (1 - ( 1 + ( r / n ) ) ^(-(n * t ) )</b>\n",
    "\n",
    "\n",
    "\n",
    "\n",
    "------------------------------------------\n",
    "<b>numerator</b> = PV * ( r / n )\n",
    "\n",
    "<b>denomenator</b> = (1 - ( 1 + ( r / n ) ) ^(-(n * t ) )\n",
    "\n",
    "<b>PMT</b> = numerator / denomenator"
   ]
  },
  {
   "cell_type": "code",
   "execution_count": 31,
   "metadata": {},
   "outputs": [
    {
     "name": "stdout",
     "output_type": "stream",
     "text": [
      "PMT: 460.5858714129317\n"
     ]
    }
   ],
   "source": [
    "# Using first function method to calculate the PMT\n",
    "\n",
    "number_of_payment_period_minus = number_of_payment_periods - (2 * number_of_payment_periods) #converts value into a negative\n",
    "\n",
    "pmt_value_numerator = present_value * payment_rate # numerator calculation\n",
    "pmt_value_denominator = (1 - ((1 + payment_rate) ** number_of_payment_period_minus)) # denominator calculation\n",
    "pmt_value = pmt_value_numerator / pmt_value_denominator #final caulculation\n",
    "\n",
    "print(f\"PMT: {pmt_value}\")"
   ]
  }
 ],
 "metadata": {
  "kernelspec": {
   "display_name": "base",
   "language": "python",
   "name": "python3"
  },
  "language_info": {
   "codemirror_mode": {
    "name": "ipython",
    "version": 3
   },
   "file_extension": ".py",
   "mimetype": "text/x-python",
   "name": "python",
   "nbconvert_exporter": "python",
   "pygments_lexer": "ipython3",
   "version": "3.11.5"
  }
 },
 "nbformat": 4,
 "nbformat_minor": 2
}
