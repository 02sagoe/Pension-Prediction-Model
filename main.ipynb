{
 "cells": [
  {
   "cell_type": "code",
   "execution_count": 1,
   "metadata": {},
   "outputs": [],
   "source": [
    "import pandas as pd\n",
    "import numpy as np"
   ]
  },
  {
   "cell_type": "markdown",
   "metadata": {},
   "source": [
    "As a first step, we set up a spreadsheet for a simple retirement plan, ignoring saving for other objectives."
   ]
  },
  {
   "cell_type": "markdown",
   "metadata": {},
   "source": [
    "### Scenario\n",
    "1. Age - 30 \n",
    "2. Expected Retirement Age - 65\n",
    "3. Completed your formal education and settled down to plan the rest of your economic life.\n",
    "4. You desire to obtain a (level) annuity for your 25-year retirement period\n",
    "5. Annual gross income $50,000\n",
    "6. Annual income increase at 7% per year\n",
    "7. Saving Percentage 15% (invested in safe government bonds that will yield 6% until retirement.)\n",
    "8. Upon retirement, your funds in the retirement account will be used to purchase a 25-year annuity (using the same 6% interest rate) to finance a steady consumption annuity"
   ]
  },
  {
   "cell_type": "code",
   "execution_count": 2,
   "metadata": {},
   "outputs": [],
   "source": [
    "# Setting up variables needed to project pension plan\n",
    "age = 30\n",
    "retirement_age = 65\n",
    "annual_income = 50000\n",
    "annual_income_growth = 0.07\n",
    "savings_percentage = 0.15\n",
    "government_bond_yield = 0.06"
   ]
  },
  {
   "cell_type": "code",
   "execution_count": 11,
   "metadata": {},
   "outputs": [],
   "source": [
    "def get_working_years(age=18, retirement_age=65):\n",
    "    ending_work_age = retirement_age + 1\n",
    "    return list(range(age, ending_work_age))"
   ]
  },
  {
   "cell_type": "code",
   "execution_count": 17,
   "metadata": {},
   "outputs": [],
   "source": [
    "working_years = get_working_years(age, retirement_age)"
   ]
  },
  {
   "cell_type": "code",
   "execution_count": 26,
   "metadata": {},
   "outputs": [],
   "source": [
    "def get_annual_income_till_retirement(working_years, annual_income=15080,  annual_income_growth=0.01):\n",
    "    annual_income_per_year = []\n",
    "    current_annual_income = '' \n",
    "    for working_year in working_years:\n",
    "        if current_annual_income == '':\n",
    "            annual_income_per_year.append(round(annual_income,2))\n",
    "            current_annual_income = annual_income * (1 + annual_income_growth)\n",
    "        else:\n",
    "            annual_income_per_year.append(round(current_annual_income,2))\n",
    "            current_annual_income *= (1 + annual_income_growth)\n",
    "        \n",
    "    return annual_income_per_year  "
   ]
  },
  {
   "cell_type": "code",
   "execution_count": 28,
   "metadata": {},
   "outputs": [],
   "source": [
    "income_growth = get_annual_income_till_retirement(working_years, annual_income, annual_income_growth)"
   ]
  },
  {
   "cell_type": "code",
   "execution_count": 31,
   "metadata": {},
   "outputs": [],
   "source": [
    "def get_savings(income_growth, savings_percentage=0.01):\n",
    "    savings = []\n",
    "\n",
    "    for income_growth_per_year in income_growth:\n",
    "        saved_amount = income_growth_per_year * savings_percentage\n",
    "        savings.append(saved_amount)\n",
    "\n",
    "    return savings"
   ]
  },
  {
   "cell_type": "code",
   "execution_count": 33,
   "metadata": {},
   "outputs": [],
   "source": [
    "savings = get_savings(income_growth, savings_percentage)"
   ]
  }
 ],
 "metadata": {
  "kernelspec": {
   "display_name": "base",
   "language": "python",
   "name": "python3"
  },
  "language_info": {
   "codemirror_mode": {
    "name": "ipython",
    "version": 3
   },
   "file_extension": ".py",
   "mimetype": "text/x-python",
   "name": "python",
   "nbconvert_exporter": "python",
   "pygments_lexer": "ipython3",
   "version": "3.11.5"
  }
 },
 "nbformat": 4,
 "nbformat_minor": 2
}
